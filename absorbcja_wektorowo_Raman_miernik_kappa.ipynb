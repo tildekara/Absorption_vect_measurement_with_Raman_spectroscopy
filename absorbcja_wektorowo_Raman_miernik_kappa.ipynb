{
 "cells": [
  {
   "cell_type": "code",
   "execution_count": 2,
   "metadata": {
    "collapsed": false
   },
   "outputs": [],
   "source": [
    "import numpy as np\n",
    "import matplotlib\n",
    "import matplotlib.pyplot as plt\n",
    "from scipy.optimize import curve_fit\n",
    "from matplotlib.backends.backend_pdf import PdfPages\n",
    "\n",
    "dane = np.loadtxt('d_0-15.txt')\n",
    "timestamp = dane[:,0]\n",
    "swiatlo = dane[:,1]\n",
    "tab_swiatlo = []\n",
    "tab_time = []\n",
    "indeks = len(swiatlo)\n",
    "\n",
    "for m in range(indeks):\n",
    "    if swiatlo[m] > 0.0001:\n",
    "        tab_time.append(timestamp[m])\n",
    "        tab_swiatlo.append(swiatlo[m])\n",
    "    \n",
    "tab_swiatlo = np.array(tab_swiatlo)\n",
    "tab_time = np.array(tab_time)"
   ]
  },
  {
   "cell_type": "code",
   "execution_count": 3,
   "metadata": {
    "collapsed": false
   },
   "outputs": [
    {
     "name": "stdout",
     "output_type": "stream",
     "text": [
      "[0.00095733051498847043, 0.00096795267175572527, 0.00095137681159420285, 0.00095680443086325448, 0.00095155072463768125, 0.00094847902364607176, 0.00094998628048780496, 0.00095663157894736834, 0.00093990763358778632, 0.00094396641221374043, 0.0009437908396946566, 0.00095419145690312738, 0.00096334935163996959, 0.00097476905487804862, 0.00098085442073170747, 0.00097921795855717558]\n"
     ]
    }
   ],
   "source": [
    "# sprawdzam czy jesteśmy powyżej średniej globalnej (znaczy w górnym)\n",
    "# i rzutuję na inta\n",
    "if_top_part = (tab_swiatlo > tab_swiatlo.mean()).astype(int)\n",
    "\n",
    "roznice = if_top_part[1:]-if_top_part[:-1]\n",
    "\n",
    "# patrzę gdzie te różnice są większe od zera (inaczej będziemy mieli\n",
    "# przejścia W GÓRĘ oraz w DÓŁ - tak tylko W GÓRĘ)\n",
    "przejscia_na_wysoki = roznice > 0\n",
    "\n",
    "# [0] bo to zwraca jednoelementową listę z tablicą indeksów\n",
    "indeksy_przejsc = np.where(przejscia_na_wysoki)[0]\n",
    "\n",
    "# rozbijam na poszczególne listy\n",
    "lista_swiatel = np.split(tab_swiatlo, indeksy_przejsc)\n",
    "lista_czasow = np.split(tab_time, indeksy_przejsc)\n",
    "\n",
    "#średnie w czasie\n",
    "lista_srednich = []\n",
    "lista_srednich_plot = []\n",
    "lista_czasow_do_srednich = []\n",
    "\n",
    "for czas, ilum in zip(lista_czasow, lista_swiatel):\n",
    "    srednie_ilum = ilum.mean()\n",
    "    lista_srednich.append(srednie_ilum)\n",
    "    lista_srednich_plot.append(srednie_ilum)\n",
    "    lista_srednich_plot.append(srednie_ilum)\n",
    "    lista_czasow_do_srednich.append(czas[0])\n",
    "    lista_czasow_do_srednich.append(czas[-1])\n",
    "    srednie_wartosci_do_wykresu = np.ones_like(czas)*srednie_ilum\n",
    "#     plt.plot(czas, ilum)\n",
    "#     plt.plot(czas, srednie_wartosci_do_wykresu)\n",
    "plt.plot(lista_czasow_do_srednich, lista_srednich_plot)\n",
    "plt.show()\n",
    "print(lista_srednich)"
   ]
  },
  {
   "cell_type": "code",
   "execution_count": null,
   "metadata": {
    "collapsed": true
   },
   "outputs": [],
   "source": []
  }
 ],
 "metadata": {
  "kernelspec": {
   "display_name": "Python 3",
   "language": "python",
   "name": "python3"
  },
  "language_info": {
   "codemirror_mode": {
    "name": "ipython",
    "version": 3
   },
   "file_extension": ".py",
   "mimetype": "text/x-python",
   "name": "python",
   "nbconvert_exporter": "python",
   "pygments_lexer": "ipython3",
   "version": "3.5.1"
  }
 },
 "nbformat": 4,
 "nbformat_minor": 0
}
